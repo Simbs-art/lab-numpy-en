{
 "cells": [
  {
   "cell_type": "markdown",
   "metadata": {},
   "source": [
    "# Lab | Numpy Deep Dive"
   ]
  },
  {
   "cell_type": "markdown",
   "metadata": {},
   "source": [
    "### 1. Import the NUMPY package under the name np.\n"
   ]
  },
  {
   "cell_type": "code",
   "execution_count": 1,
   "metadata": {},
   "outputs": [],
   "source": [
    "import numpy as np\n"
   ]
  },
  {
   "cell_type": "markdown",
   "metadata": {},
   "source": [
    "\n",
    "\n",
    "### 2. Print the NUMPY version and the configuration.\n"
   ]
  },
  {
   "cell_type": "code",
   "execution_count": 3,
   "metadata": {},
   "outputs": [
    {
     "name": "stdout",
     "output_type": "stream",
     "text": [
      "<module 'numpy' from 'c:\\\\Users\\\\diplo\\\\anaconda3\\\\Lib\\\\site-packages\\\\numpy\\\\__init__.py'>\n"
     ]
    }
   ],
   "source": [
    "print (np)\n"
   ]
  },
  {
   "cell_type": "markdown",
   "metadata": {},
   "source": [
    "### 3. Generate a 2x3x5 3-dimensional array with random values. Assign the array to variable \"a\"\n",
    "Challenge: there are at least three easy ways that use numpy to generate random arrays. How many ways can you find?\n"
   ]
  },
  {
   "cell_type": "code",
   "execution_count": 4,
   "metadata": {},
   "outputs": [],
   "source": [
    "a = np.random.rand(2, 3, 5)\n"
   ]
  },
  {
   "cell_type": "markdown",
   "metadata": {},
   "source": [
    "\n",
    "### 4. Print a.\n"
   ]
  },
  {
   "cell_type": "code",
   "execution_count": 8,
   "metadata": {},
   "outputs": [
    {
     "name": "stdout",
     "output_type": "stream",
     "text": [
      "\n",
      "Array a:\n",
      "[[[0.61138572 0.66897677 0.91048021 0.0615623  0.79054782]\n",
      "  [0.70959237 0.71323582 0.10595458 0.71188311 0.39180775]\n",
      "  [0.94262268 0.47892298 0.3495389  0.54953111 0.82240931]]\n",
      "\n",
      " [[0.06475913 0.17262847 0.34262633 0.18355764 0.31954551]\n",
      "  [0.07907521 0.00970296 0.58528587 0.78307794 0.80086684]\n",
      "  [0.82085091 0.04248332 0.66829276 0.73466094 0.34980858]]]\n"
     ]
    }
   ],
   "source": [
    "print(\"\\nArray a:\")\n",
    "print(a)\n"
   ]
  },
  {
   "cell_type": "markdown",
   "metadata": {},
   "source": [
    "### 5. Create a 5x2x3 3-dimensional array with all values equaling 1.\n",
    "### Assign the array to variable \"b\"\n"
   ]
  },
  {
   "cell_type": "code",
   "execution_count": 9,
   "metadata": {},
   "outputs": [],
   "source": [
    "b = np.ones((5, 2, 3))\n"
   ]
  },
  {
   "cell_type": "markdown",
   "metadata": {},
   "source": [
    "\n",
    "### 6. Print b.\n"
   ]
  },
  {
   "cell_type": "code",
   "execution_count": 10,
   "metadata": {},
   "outputs": [
    {
     "name": "stdout",
     "output_type": "stream",
     "text": [
      "\n",
      "Array b:\n",
      "[[[1. 1. 1.]\n",
      "  [1. 1. 1.]]\n",
      "\n",
      " [[1. 1. 1.]\n",
      "  [1. 1. 1.]]\n",
      "\n",
      " [[1. 1. 1.]\n",
      "  [1. 1. 1.]]\n",
      "\n",
      " [[1. 1. 1.]\n",
      "  [1. 1. 1.]]\n",
      "\n",
      " [[1. 1. 1.]\n",
      "  [1. 1. 1.]]]\n"
     ]
    }
   ],
   "source": [
    "print(\"\\nArray b:\")\n",
    "print(b)\n"
   ]
  },
  {
   "cell_type": "markdown",
   "metadata": {},
   "source": [
    "\n",
    "### 7. Do a and b have the same size? How do you prove that in Python code?\n"
   ]
  },
  {
   "cell_type": "code",
   "execution_count": 13,
   "metadata": {},
   "outputs": [
    {
     "name": "stdout",
     "output_type": "stream",
     "text": [
      "True\n"
     ]
    }
   ],
   "source": [
    "print(a.size == b.size)\n"
   ]
  },
  {
   "cell_type": "markdown",
   "metadata": {},
   "source": [
    "\n",
    "### 8. Are you able to add a and b? Why or why not?\n"
   ]
  },
  {
   "cell_type": "code",
   "execution_count": 14,
   "metadata": {},
   "outputs": [
    {
     "name": "stdout",
     "output_type": "stream",
     "text": [
      "\n",
      "Cannot add a and b due to shape mismatch: operands could not be broadcast together with shapes (2,3,5) (5,2,3) \n"
     ]
    }
   ],
   "source": [
    "try: \n",
    "    result = a+b\n",
    "except ValueError as e:\n",
    "    print(\"\\nCannot add a and b due to shape mismatch:\", e)\n"
   ]
  },
  {
   "cell_type": "markdown",
   "metadata": {},
   "source": [
    "\n",
    "\n",
    "### 9. Transpose b so that it has the same structure of a (i.e. become a 2x3x5 array). Assign the transposed array to varialbe \"c\".\n"
   ]
  },
  {
   "cell_type": "code",
   "execution_count": 15,
   "metadata": {},
   "outputs": [
    {
     "name": "stdout",
     "output_type": "stream",
     "text": [
      "(2, 3, 5)\n"
     ]
    }
   ],
   "source": [
    "c = b.transpose((1,2,0))\n",
    "print (c.shape)\n"
   ]
  },
  {
   "cell_type": "markdown",
   "metadata": {},
   "source": [
    "\n",
    "### 10. Try to add a and c. Now it should work. Assign the sum to variable \"d\". But why does it work now?\n"
   ]
  },
  {
   "cell_type": "code",
   "execution_count": 16,
   "metadata": {},
   "outputs": [
    {
     "name": "stdout",
     "output_type": "stream",
     "text": [
      "[[[1.61138572 1.66897677 1.91048021 1.0615623  1.79054782]\n",
      "  [1.70959237 1.71323582 1.10595458 1.71188311 1.39180775]\n",
      "  [1.94262268 1.47892298 1.3495389  1.54953111 1.82240931]]\n",
      "\n",
      " [[1.06475913 1.17262847 1.34262633 1.18355764 1.31954551]\n",
      "  [1.07907521 1.00970296 1.58528587 1.78307794 1.80086684]\n",
      "  [1.82085091 1.04248332 1.66829276 1.73466094 1.34980858]]]\n"
     ]
    }
   ],
   "source": [
    "d = a+c\n",
    "print(d)\n"
   ]
  },
  {
   "cell_type": "markdown",
   "metadata": {},
   "source": [
    "\n",
    "### 11. Print a and d. Notice the difference and relation of the two array in terms of the values? Explain.\n"
   ]
  },
  {
   "cell_type": "code",
   "execution_count": null,
   "metadata": {},
   "outputs": [
    {
     "name": "stdout",
     "output_type": "stream",
     "text": [
      "\n",
      "Array a:\n",
      "[[[0.61138572 0.66897677 0.91048021 0.0615623  0.79054782]\n",
      "  [0.70959237 0.71323582 0.10595458 0.71188311 0.39180775]\n",
      "  [0.94262268 0.47892298 0.3495389  0.54953111 0.82240931]]\n",
      "\n",
      " [[0.06475913 0.17262847 0.34262633 0.18355764 0.31954551]\n",
      "  [0.07907521 0.00970296 0.58528587 0.78307794 0.80086684]\n",
      "  [0.82085091 0.04248332 0.66829276 0.73466094 0.34980858]]]\n",
      "\n",
      "Array d:\n",
      "[[[1.61138572 1.66897677 1.91048021 1.0615623  1.79054782]\n",
      "  [1.70959237 1.71323582 1.10595458 1.71188311 1.39180775]\n",
      "  [1.94262268 1.47892298 1.3495389  1.54953111 1.82240931]]\n",
      "\n",
      " [[1.06475913 1.17262847 1.34262633 1.18355764 1.31954551]\n",
      "  [1.07907521 1.00970296 1.58528587 1.78307794 1.80086684]\n",
      "  [1.82085091 1.04248332 1.66829276 1.73466094 1.34980858]]]\n"
     ]
    }
   ],
   "source": [
    "print(\"\\nArray a:\")\n",
    "print(a)\n",
    "print(\"\\nArray d:\")\n",
    "print(d)\n",
    "# d is a+1 because c is full of ones\n"
   ]
  },
  {
   "cell_type": "markdown",
   "metadata": {},
   "source": [
    "\n",
    "### 12. Multiply a and c. Assign the result to e.\n"
   ]
  },
  {
   "cell_type": "code",
   "execution_count": 19,
   "metadata": {},
   "outputs": [
    {
     "name": "stdout",
     "output_type": "stream",
     "text": [
      "\n",
      "Array e(a*c):\n",
      "[[[0.61138572 0.66897677 0.91048021 0.0615623  0.79054782]\n",
      "  [0.70959237 0.71323582 0.10595458 0.71188311 0.39180775]\n",
      "  [0.94262268 0.47892298 0.3495389  0.54953111 0.82240931]]\n",
      "\n",
      " [[0.06475913 0.17262847 0.34262633 0.18355764 0.31954551]\n",
      "  [0.07907521 0.00970296 0.58528587 0.78307794 0.80086684]\n",
      "  [0.82085091 0.04248332 0.66829276 0.73466094 0.34980858]]]\n"
     ]
    }
   ],
   "source": [
    "e = a * c\n",
    "print(\"\\nArray e(a*c):\")\n",
    "print(e)\n"
   ]
  },
  {
   "cell_type": "markdown",
   "metadata": {},
   "source": [
    "\n",
    "\n",
    "### 13. Does e equal to a? Why or why not?\n"
   ]
  },
  {
   "cell_type": "code",
   "execution_count": 20,
   "metadata": {},
   "outputs": [
    {
     "name": "stdout",
     "output_type": "stream",
     "text": [
      "True\n"
     ]
    }
   ],
   "source": [
    "print(np.array_equal(e,a))\n",
    "\n"
   ]
  },
  {
   "cell_type": "markdown",
   "metadata": {},
   "source": [
    "\n",
    "\n",
    "### 14. Identify the max, min, and mean values in d. Assign those values to variables \"d_max\", \"d_min\", and \"d_mean\"\n"
   ]
  },
  {
   "cell_type": "code",
   "execution_count": 21,
   "metadata": {},
   "outputs": [],
   "source": [
    "d_max = d.max()\n",
    "d_min = d.min()\n",
    "d_mean = d.mean()\n",
    "\n"
   ]
  },
  {
   "cell_type": "markdown",
   "metadata": {},
   "source": [
    "\n",
    "### 15. Now we want to label the values in d. First create an empty array \"f\" with the same shape (i.e. 2x3x5) as d using `np.empty`.\n"
   ]
  },
  {
   "cell_type": "code",
   "execution_count": 22,
   "metadata": {},
   "outputs": [],
   "source": [
    "f = np.empty_like(d)\n"
   ]
  },
  {
   "cell_type": "markdown",
   "metadata": {},
   "source": [
    "\n",
    "\n",
    "\n",
    "### 16. Populate the values in f. For each value in d, if it's larger than d_min but smaller than d_mean, assign 25 to the corresponding value in f.\n",
    "If a value in d is larger than d_mean but smaller than d_max, assign 75 to the corresponding value in f.\n",
    "If a value equals to d_mean, assign 50 to the corresponding value in f.\n",
    "Assign 0 to the corresponding value(s) in f for d_min in d.\n",
    "Assign 100 to the corresponding value(s) in f for d_max in d.\n",
    "In the end, f should have only the following values: 0, 25, 50, 75, and 100.\n",
    "Note: you don't have to use Numpy in this question.\n",
    "\n"
   ]
  },
  {
   "cell_type": "code",
   "execution_count": 23,
   "metadata": {},
   "outputs": [],
   "source": [
    "for i in range(d.shape[0]):\n",
    "    for j in range(d.shape[1]):\n",
    "        for k in range(d.shape[2]):\n",
    "            val = d[i, j, k]\n",
    "            if val == d_min:\n",
    "                f[i, j, k] = 0\n",
    "            elif val == d_max:\n",
    "                f[i, j, k] = 100\n",
    "            elif val == d_mean:\n",
    "                f[i, j, k] = 50\n",
    "            elif d_min < val < d_mean:\n",
    "                f[i, j, k] = 25\n",
    "            elif d_mean < val < d_max:\n",
    "                f[i, j, k] = 75"
   ]
  },
  {
   "cell_type": "markdown",
   "metadata": {},
   "source": [
    "\n",
    "\n",
    "\n",
    "\n",
    "### 17. Print d and f. Do you have your expected f?\n",
    "For instance, if your d is:\n",
    "array([[[1.85836099, 1.67064465, 1.62576044, 1.40243961, 1.88454931],\n",
    "        [1.75354326, 1.69403643, 1.36729252, 1.61415071, 1.12104981],\n",
    "        [1.72201435, 1.1862918 , 1.87078449, 1.7726778 , 1.88180042]],\n",
    "\n",
    "       [[1.44747908, 1.31673383, 1.02000951, 1.52218947, 1.97066381],\n",
    "        [1.79129243, 1.74983003, 1.96028037, 1.85166831, 1.65450881],\n",
    "        [1.18068344, 1.9587381 , 1.00656599, 1.93402165, 1.73514584]]])\n",
    "\n",
    "Your f should be:\n",
    "array([[[ 75.,  75.,  75.,  25.,  75.],\n",
    "        [ 75.,  75.,  25.,  25.,  25.],\n",
    "        [ 75.,  25.,  75.,  75.,  75.]],\n",
    "\n",
    "       [[ 25.,  25.,  25.,  25., 100.],\n",
    "        [ 75.,  75.,  75.,  75.,  75.],\n",
    "        [ 25.,  75.,   0.,  75.,  75.]]])\n",
    "\n"
   ]
  },
  {
   "cell_type": "code",
   "execution_count": 24,
   "metadata": {},
   "outputs": [
    {
     "name": "stdout",
     "output_type": "stream",
     "text": [
      "\n",
      "Array d:\n",
      "[[[1.61138572 1.66897677 1.91048021 1.0615623  1.79054782]\n",
      "  [1.70959237 1.71323582 1.10595458 1.71188311 1.39180775]\n",
      "  [1.94262268 1.47892298 1.3495389  1.54953111 1.82240931]]\n",
      "\n",
      " [[1.06475913 1.17262847 1.34262633 1.18355764 1.31954551]\n",
      "  [1.07907521 1.00970296 1.58528587 1.78307794 1.80086684]\n",
      "  [1.82085091 1.04248332 1.66829276 1.73466094 1.34980858]]]\n",
      "\n",
      "Array f:\n",
      "[[[ 75.  75.  75.  25.  75.]\n",
      "  [ 75.  75.  25.  75.  25.]\n",
      "  [100.  25.  25.  75.  75.]]\n",
      "\n",
      " [[ 25.  25.  25.  25.  25.]\n",
      "  [ 25.   0.  75.  75.  75.]\n",
      "  [ 75.  25.  75.  75.  25.]]]\n"
     ]
    }
   ],
   "source": [
    "print(\"\\nArray d:\")\n",
    "print(d)\n",
    "print(\"\\nArray f:\")\n",
    "print(f)\n"
   ]
  },
  {
   "cell_type": "markdown",
   "metadata": {},
   "source": [
    "### 18. Bonus question: instead of using numbers (i.e. 0, 25, 50, 75, and 100), how to use string values \n",
    "(\"A\", \"B\", \"C\", \"D\", and \"E\") to label the array elements? You are expecting the result to be:\n",
    "array([[[ 'D',  'D',  'D',  'B',  'D'],\n",
    "        [ 'D',  'D',  'B',  'B',  'B'],\n",
    "        [ 'D',  'B',  'D',  'D',  'D']],\n",
    "\n",
    "       [[ 'B',  'B',  'B',  'B',  'E'],\n",
    "        [ 'D',  'D',  'D',  'D',  'D'],\n",
    "        [ 'B',  'D',   'A',  'D', 'D']]])\n",
    "Again, you don't need Numpy in this question."
   ]
  },
  {
   "cell_type": "code",
   "execution_count": 26,
   "metadata": {},
   "outputs": [
    {
     "name": "stdout",
     "output_type": "stream",
     "text": [
      "\n",
      "String labeled array f_str:\n",
      "[[['D' 'D' 'D' 'B' 'D']\n",
      "  ['D' 'D' 'B' 'D' 'B']\n",
      "  ['E' 'B' 'B' 'D' 'D']]\n",
      "\n",
      " [['B' 'B' 'B' 'B' 'B']\n",
      "  ['B' 'A' 'D' 'D' 'D']\n",
      "  ['D' 'B' 'D' 'D' 'B']]]\n"
     ]
    }
   ],
   "source": [
    "f_str = np.empty_like(f, dtype=object)\n",
    "for i in range(d.shape[0]):\n",
    "    for j in range(d.shape[1]):\n",
    "        for k in range(d.shape[2]):\n",
    "            val = d[i, j, k]\n",
    "            if val == d_min:\n",
    "                f_str[i, j, k] = \"A\"\n",
    "            elif val == d_max:\n",
    "                f_str[i, j, k] = \"E\"\n",
    "            elif val == d_mean:\n",
    "                f_str[i, j, k] = \"C\"\n",
    "            elif d_min < val < d_mean:\n",
    "                f_str[i, j, k] = \"B\"\n",
    "            elif d_mean < val < d_max:\n",
    "                f_str[i, j, k] = \"D\"\n",
    "print(\"\\nString labeled array f_str:\")\n",
    "print(f_str)"
   ]
  }
 ],
 "metadata": {
  "kernelspec": {
   "display_name": "base",
   "language": "python",
   "name": "python3"
  },
  "language_info": {
   "codemirror_mode": {
    "name": "ipython",
    "version": 3
   },
   "file_extension": ".py",
   "mimetype": "text/x-python",
   "name": "python",
   "nbconvert_exporter": "python",
   "pygments_lexer": "ipython3",
   "version": "3.12.7"
  }
 },
 "nbformat": 4,
 "nbformat_minor": 2
}
